{
 "cells": [
  {
   "cell_type": "markdown",
   "metadata": {},
   "source": [
    "# Kata Practice \n",
    "This is a notebook where I practice how to solve code challenges"
   ]
  },
  {
   "cell_type": "markdown",
   "metadata": {},
   "source": [
    "**Problem 1**\n",
    "\n",
    "Reverse Number is a number which is the same when reversed.\n",
    "\n",
    "For Example;\n",
    "0, 1, 2, 3, 4, 5, 6, 7, 8, 9, 11, 22, 33, 44, 55, 66, 77, 88, 99, 101 => First 20 Reverse Numbers\n",
    "  \n",
    "TASK:\n",
    "\n",
    "You need to return the nth reverse number. (Assume that reverse numbers start from 0 as shown in the example.)\n",
    "\n",
    "NOTES:\n",
    "\n",
    "0 < n <= 1000000"
   ]
  },
  {
   "cell_type": "code",
   "execution_count": 13,
   "metadata": {},
   "outputs": [],
   "source": [
    "def find_reverse_number(n):\n",
    "    lst = []\n",
    "    \n",
    "    for num in range(0,1000000):\n",
    "        if num == int(str(num)[:-1]):\n",
    "            list.append(num)\n",
    "    \n",
    "    return list[n-1]    "
   ]
  },
  {
   "cell_type": "markdown",
   "metadata": {},
   "source": [
    "**OR**"
   ]
  },
  {
   "cell_type": "code",
   "execution_count": null,
   "metadata": {},
   "outputs": [],
   "source": [
    "def find_reverse_number(n):\n",
    "\n",
    "    lst = [num for num in range(0,1000000) if num == int(str(num)[::-1])]\n",
    "    \n",
    "    retrun "
   ]
  }
 ],
 "metadata": {
  "kernelspec": {
   "display_name": "Python 3",
   "language": "python",
   "name": "python3"
  },
  "language_info": {
   "codemirror_mode": {
    "name": "ipython",
    "version": 3
   },
   "file_extension": ".py",
   "mimetype": "text/x-python",
   "name": "python",
   "nbconvert_exporter": "python",
   "pygments_lexer": "ipython3",
   "version": "3.8.3"
  },
  "toc": {
   "base_numbering": 1,
   "nav_menu": {},
   "number_sections": true,
   "sideBar": true,
   "skip_h1_title": false,
   "title_cell": "Table of Contents",
   "title_sidebar": "Contents",
   "toc_cell": false,
   "toc_position": {},
   "toc_section_display": true,
   "toc_window_display": false
  }
 },
 "nbformat": 4,
 "nbformat_minor": 4
}
